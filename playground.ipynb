{
  "cells": [
    {
      "attachments": {},
      "cell_type": "markdown",
      "metadata": {},
      "source": [
        "### Example:"
      ]
    },
    {
      "cell_type": "markdown",
      "metadata": {
        "id": "BCq0U8PajyGV"
      },
      "source": [
        "Dalam penggunaan pengkondisian, pyhton mensupport untuk penggunaan logika matematika: \n",
        "- Equals : a == b\n",
        "- Not Equals : a != b\n",
        "- Kurang dari : a < b \n",
        "dan sebagainya"
      ]
    },
    {
      "cell_type": "code",
      "execution_count": 1,
      "metadata": {
        "colab": {
          "base_uri": "https://localhost:8080/"
        },
        "id": "59lbFSrpkQf9",
        "outputId": "6481ba0b-8243-4232-8c86-d289c7aaa11e"
      },
      "outputs": [
        {
          "name": "stdout",
          "output_type": "stream",
          "text": [
            "b lebih besar dari a\n"
          ]
        }
      ],
      "source": [
        "a = 33\n",
        "b = 50\n",
        "if b > a :\n",
        "  print(\"b lebih besar dari a\")"
      ]
    },
    {
      "cell_type": "markdown",
      "metadata": {
        "id": "IW1ldvh6kgrW"
      },
      "source": [
        "untuk menjalankan rangkaian program lain jika kondisi tidak terpenuhi, gunakan Else"
      ]
    },
    {
      "cell_type": "code",
      "execution_count": 2,
      "metadata": {
        "id": "-P-i4GY-ksvH"
      },
      "outputs": [
        {
          "name": "stdout",
          "output_type": "stream",
          "text": [
            "b lebih besar dari a\n"
          ]
        }
      ],
      "source": [
        "a = 33\n",
        "b = 44\n",
        "if b < a :\n",
        "  print(\"b lebih kecil dari a\")\n",
        "else: #setelah else tidak perlu diberi syarat kondisi\n",
        "  print(\"b lebih besar dari a\")"
      ]
    },
    {
      "cell_type": "markdown",
      "metadata": {
        "id": "SX4u-2dgk-Yy"
      },
      "source": [
        "if dan else dapat digunakan jika hanya terdapat dua kemungkinan. untuk kondisi yang lebih dari dua kemungkinan gunakan Elif "
      ]
    },
    {
      "cell_type": "code",
      "execution_count": 3,
      "metadata": {
        "id": "si1zhdY6lKDD"
      },
      "outputs": [
        {
          "name": "stdout",
          "output_type": "stream",
          "text": [
            "a bernilai sama dengan b\n"
          ]
        }
      ],
      "source": [
        "a = 33\n",
        "b = 33\n",
        "if a > b :\n",
        "  print(\"a lebih besar dari b\")\n",
        " #elif merupakan singkatan dari else if\n",
        " #setelah elif, masih perlu ditambahkan syarat kondisi\n",
        "elif a == b :\n",
        "  print(\"a bernilai sama dengan b\")\n",
        "else:\n",
        "  print(\"a lebih kecil dari b\")"
      ]
    },
    {
      "cell_type": "markdown",
      "metadata": {
        "id": "30oEsy44ln7q"
      },
      "source": [
        "selain operator logika, operator perbandingan seperti AND OR dan NOT"
      ]
    },
    {
      "cell_type": "code",
      "execution_count": 4,
      "metadata": {
        "id": "qZzXSauAm0b6"
      },
      "outputs": [
        {
          "name": "stdout",
          "output_type": "stream",
          "text": [
            "Keduanya benar!\n"
          ]
        }
      ],
      "source": [
        "a = 20\n",
        "b = 3\n",
        "c = 50\n",
        "if a > b and c > a : #syarat penggunaan AND adalah kedua kondisi harus bernilai TRUE\n",
        "  print(\"Keduanya benar!\")"
      ]
    },
    {
      "cell_type": "code",
      "execution_count": 5,
      "metadata": {
        "id": "tUmml-26mf4e"
      },
      "outputs": [
        {
          "name": "stdout",
          "output_type": "stream",
          "text": [
            "Salah satu kondisi benar!\n"
          ]
        }
      ],
      "source": [
        "a = 20\n",
        "b = 3\n",
        "c = 50\n",
        "if a > b or c < a : #syarat penggunaan OR adalah Salah satu kondisi harus bernilai TRUE\n",
        "  print(\"Salah satu kondisi benar!\")"
      ]
    },
    {
      "cell_type": "code",
      "execution_count": 1,
      "metadata": {
        "id": "hYXsEcz0nP2c"
      },
      "outputs": [
        {
          "name": "stdout",
          "output_type": "stream",
          "text": [
            "B tidak lebih besar dari A\n"
          ]
        }
      ],
      "source": [
        "a = 20\n",
        "b = 3\n",
        "c = 50\n",
        "if not b > a : #NOT berarti menegasikan hasil\n",
        "  print(\"B tidak lebih besar dari A\")"
      ]
    },
    {
      "cell_type": "markdown",
      "metadata": {
        "id": "abYLk-gDn8UK"
      },
      "source": [
        "IF dalam IF\n",
        "pengkondisian memungkinkan untuk memiliki banyak cabang, termasuk kondisi setelah kondisi (if dalam if)"
      ]
    },
    {
      "cell_type": "code",
      "execution_count": 7,
      "metadata": {
        "id": "ebgPQzXqjQmA"
      },
      "outputs": [
        {
          "name": "stdout",
          "output_type": "stream",
          "text": [
            "User berumur diatas 10 tahun\n",
            "Tetapi user masih dibawah 20 tahun\n"
          ]
        }
      ],
      "source": [
        "umur = 19\n",
        "\n",
        "if umur > 10:\n",
        "  print(\"User berumur diatas 10 tahun\")\n",
        "  if umur > 20:\n",
        "    print(\"User berumur diatas 20 tahun\")\n",
        "  else:\n",
        "    print(\"Tetapi user masih dibawah 20 tahun\")"
      ]
    },
    {
      "attachments": {},
      "cell_type": "markdown",
      "metadata": {},
      "source": [
        "### Praktik:"
      ]
    },
    {
      "attachments": {},
      "cell_type": "markdown",
      "metadata": {},
      "source": [
        "1. Buatlah program pengkondisian yang meminta input dari user berupa umur dua orang, kemudian menghasilkan output berupa umur siapa yang lebih tua"
      ]
    },
    {
      "cell_type": "code",
      "execution_count": 3,
      "metadata": {},
      "outputs": [
        {
          "name": "stdout",
          "output_type": "stream",
          "text": [
            "umur yang lebih tua adalah orang pertama yaitu 56 tahun\n"
          ]
        }
      ],
      "source": [
        "a = int(input(\"masukkan umur orang pertama\"))\n",
        "b = int(input(\"masukkan umur orang kedua\"))\n",
        "\n",
        "if a > b :\n",
        "    print(\"umur yang lebih tua adalah orang pertama yaitu\", a, \"tahun\")\n",
        "else :\n",
        "    print(\"umur yang lebih tua adalah orang kedua yaitu\", b, \"tahun\")"
      ]
    },
    {
      "attachments": {},
      "cell_type": "markdown",
      "metadata": {},
      "source": [
        "2. Buatlah program kasir yang meminta input dari user berupa nominal belanja, selanjutnya program tersebut akan melakukan perhitungan diskon:\\\n",
        "    a. apabila nominal belanja lebih dari sama dengan 500000, maka akan mendapat diskon 25%<br>\n",
        "    b. apabila nominal belanja lebih dari sama dengan 300000, maka akan mendapat diskon 15%<br>\n",
        "    c. apabila nominal belanja lebih dari sama dengan 100000, maka akan mendapat diskon 5%<br>\n",
        "Selanjutnya program tersebut akan menghasilkan output total harga yang harus dibayarkan oleh user"
      ]
    },
    {
      "cell_type": "code",
      "execution_count": 23,
      "metadata": {},
      "outputs": [
        {
          "name": "stdout",
          "output_type": "stream",
          "text": [
            "====================================\n",
            "Jumlah pembayaran anda adalah       : Rp90.000,00\n",
            "Jumlah discount yang anda peroleh   : Rp0,00\n",
            "Jumlah pembayaran setelah diskon    : Rp90.000,00\n"
          ]
        }
      ],
      "source": [
        "print (\"=\" * 36)\n",
        "hargabaju = int(input(\"Masukkan total pembelian anda :\"))\n",
        "\n",
        "totalharga = 0\n",
        "potongan = 0\n",
        "\n",
        "if hargabaju >= 100000 :\n",
        "    potongan = hargabaju * 5/100\n",
        "    totalharga = hargabaju - potongan\n",
        "elif hargabaju >= 300000 :\n",
        "    potongan = hargabaju * 15/100\n",
        "    totalharga = hargabaju - potongan\n",
        "elif hargabaju >= 500000 :\n",
        "    potongan = hargabaju * 25/100\n",
        "    totalharga = hargabaju - potongan\n",
        "else :\n",
        "    potongan = hargabaju * 0/100\n",
        "    totalharga = hargabaju - potongan\n",
        "\n",
        "import locale\n",
        "locale.setlocale(locale.LC_ALL, \"\")\n",
        "\n",
        "totalharga = (locale.currency(totalharga, grouping = True))\n",
        "hargabaju = (locale.currency(hargabaju, grouping = True))\n",
        "potongan = (locale.currency(potongan, grouping = True))\n",
        "\n",
        "print (\"Jumlah pembayaran anda adalah       :\", hargabaju)\n",
        "print (\"Jumlah discount yang anda peroleh   :\", potongan)\n",
        "print (\"Jumlah pembayaran setelah diskon    :\", totalharga)\n",
        "\n"
      ]
    }
  ],
  "metadata": {
    "colab": {
      "provenance": []
    },
    "kernelspec": {
      "display_name": "Python 3",
      "language": "python",
      "name": "python3"
    },
    "language_info": {
      "codemirror_mode": {
        "name": "ipython",
        "version": 3
      },
      "file_extension": ".py",
      "mimetype": "text/x-python",
      "name": "python",
      "nbconvert_exporter": "python",
      "pygments_lexer": "ipython3",
      "version": "3.10.7"
    },
    "vscode": {
      "interpreter": {
        "hash": "f2ccb58c476f33ba3e3aee7ac07234ef6b8217ef24ad64d2a7d4fed1a57c1cd2"
      }
    }
  },
  "nbformat": 4,
  "nbformat_minor": 0
}
